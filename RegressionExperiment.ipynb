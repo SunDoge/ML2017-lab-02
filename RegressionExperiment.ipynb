{
 "cells": [
  {
   "cell_type": "code",
   "execution_count": 10,
   "metadata": {
    "collapsed": true
   },
   "outputs": [],
   "source": [
    "import numpy as np\n",
    "from sklearn.datasets import load_svmlight_file\n",
    "from sklearn.model_selection import train_test_split\n",
    "from sklearn.preprocessing import LabelEncoder\n",
    "from sklearn.metrics import accuracy_score\n",
    "import matplotlib.pyplot as plt\n",
    "import requests\n",
    "from scipy.sparse import hstack\n",
    "from scipy.special import expit"
   ]
  },
  {
   "cell_type": "code",
   "execution_count": 2,
   "metadata": {},
   "outputs": [],
   "source": [
    "def download_data(url):\n",
    "# data_url = 'https://www.csie.ntu.edu.tw/~cjlin/libsvmtools/datasets/regression/housing_scale'\n",
    "    data = requests.get(url)\n",
    "    file_name = url.split('/')[-1] + '.svm'\n",
    "    with open(file_name, 'w') as f:\n",
    "        f.write(data.text)\n",
    "    return file_name"
   ]
  },
  {
   "cell_type": "code",
   "execution_count": 10,
   "metadata": {},
   "outputs": [],
   "source": [
    "a9a = download_data('https://www.csie.ntu.edu.tw/~cjlin/libsvmtools/datasets/binary/a9a')\n",
    "a9at = download_data('https://www.csie.ntu.edu.tw/~cjlin/libsvmtools/datasets/binary/a9a.t')"
   ]
  },
  {
   "cell_type": "code",
   "execution_count": 4,
   "metadata": {},
   "outputs": [],
   "source": [
    "X, y = load_svmlight_file('a9a.svm', n_features=123)\n",
    "X_test, y_test = load_svmlight_file('a9a.t.svm', n_features=123)"
   ]
  },
  {
   "cell_type": "code",
   "execution_count": 5,
   "metadata": {},
   "outputs": [],
   "source": [
    "def sigmoid(z):  \n",
    "    return 1.0 / (1 + np.exp(-z))\n",
    "# avoid overflow\n",
    "#     return expit(z)"
   ]
  },
  {
   "cell_type": "code",
   "execution_count": 6,
   "metadata": {},
   "outputs": [],
   "source": [
    "def loss_fn(X, y, w):\n",
    "    m = X.shape[0]\n",
    "    h = sigmoid(X.dot(w))\n",
    "#     if 0 in h or 1 in h:\n",
    "#         print(h)\n",
    "    j = np.sum(y*np.log(h)+(1-y)*np.log(1-h)) / m\n",
    "    return -j"
   ]
  },
  {
   "cell_type": "code",
   "execution_count": 7,
   "metadata": {},
   "outputs": [],
   "source": [
    "def gradient(X, y, w):\n",
    "    h = sigmoid(X.dot(w))\n",
    "    error = h - y\n",
    "    grad = X.T.dot(error)\n",
    "    return grad"
   ]
  },
  {
   "cell_type": "code",
   "execution_count": 8,
   "metadata": {},
   "outputs": [],
   "source": [
    "def logistic_regression(X, y, iterations, learning_rate, method='gd'):\n",
    "    loss_history = []\n",
    "    X0 = np.ones((X.shape[0], 1))\n",
    "    X = hstack([X0, X])\n",
    "    w = np.ones(X.shape[1])\n",
    "    v = np.zeros(X.shape[1])\n",
    "    G = np.zeros(X.shape[1])\n",
    "    gamma = 0.9\n",
    "    beta = 0.9\n",
    "    epsilon = 1e-5\n",
    "    delta = np.zeros(X.shape[1])\n",
    "    m = np.zeros(X.shape[1])\n",
    "    \n",
    "    loss = loss_fn(X, y, w)\n",
    "    loss_history.append(loss)\n",
    "    for i in range(iterations):\n",
    "        if method == 'gd':            \n",
    "            grad = gradient(X, y, w)\n",
    "            w -= learning_rate * grad\n",
    "            \n",
    "        elif method == 'NAG':\n",
    "            grad = gradient(X, y, w - gamma * v)\n",
    "            v = gamma * v + learning_rate * grad\n",
    "            w -= v\n",
    "            \n",
    "        elif method == 'RMSProp':\n",
    "            grad = gradient(X, y, w)\n",
    "            G = gamma * G + (1 - gamma) * np.square(grad)\n",
    "            w -= learning_rate * 100 * grad / np.sqrt(G + epsilon)\n",
    "            \n",
    "        elif method == 'AdaDelta':\n",
    "            grad = gradient(X, y, w)\n",
    "            G = gamma * G + (1 - gamma)* np.square(grad)\n",
    "            dw = -np.sqrt(delta + epsilon) / np.sqrt(G + epsilon) * grad\n",
    "            w += dw\n",
    "            delta = gamma * delta + (1 - gamma) * np.square(delta)\n",
    "            \n",
    "        elif method == 'Adam':\n",
    "            t = i + 1\n",
    "            grad = gradient(X, y, w)\n",
    "            m = beta * m + (1 - beta) * grad\n",
    "            G = gamma * G + (1 - gamma) * np.square(grad)\n",
    "            alpha = learning_rate * 100 * np.sqrt(1 - gamma ** t) / (1 - beta ** t)\n",
    "            w -= alpha * m / np.sqrt(G + epsilon)\n",
    "#             print(alpha)\n",
    "        \n",
    "            \n",
    "            \n",
    "        loss = loss_fn(X, y, w)\n",
    "        loss_history.append(loss)\n",
    "        \n",
    "    return w, loss_history"
   ]
  },
  {
   "cell_type": "code",
   "execution_count": 61,
   "metadata": {},
   "outputs": [
    {
     "name": "stdout",
     "output_type": "stream",
     "text": [
      "[ -6.23485344e-01  -1.01577441e+00  -3.26526821e-02   5.71499533e-01\n",
      "   8.76126557e-01   8.80121104e-01   3.03142622e-01  -9.62986451e-02\n",
      "   5.50094646e-01   7.42806132e-01   5.04262133e-02  -3.21537154e-02\n",
      "  -1.99933566e+00  -1.99513141e+00  -6.99334722e-01  -4.94761287e-01\n",
      "  -5.00698159e-01  -4.85599605e-01  -4.65898795e-01  -4.46731947e-02\n",
      "  -4.65073257e-03   7.55566777e-01  -1.81555885e-01   8.68520156e-01\n",
      "   5.94542918e-02   7.25743961e-02   3.34825716e-01   1.23397322e-01\n",
      "   1.11465302e+00   2.72796437e-01   1.05738291e-01   6.54505835e-01\n",
      "   1.03196989e+00   3.40675326e-01  -1.99899913e+00  -1.74317366e+00\n",
      "  -1.81555885e-01  -4.65073257e-03   7.87803300e-02   8.11702806e-01\n",
      "   8.91443892e-01  -1.31994431e+00  -1.53105602e+00  -1.39558328e+00\n",
      "  -8.89674193e-01  -1.24731968e+00   1.62649953e+00   7.73913294e-01\n",
      "   1.39002698e-01  -6.73107443e-01   3.90412167e-01   8.64134439e-01\n",
      "   6.23557093e-01  -5.52089280e-01  -2.67068247e-01   1.17585318e-01\n",
      "  -7.27322276e-01  -2.04348691e-03  -1.94434061e+00   7.70823787e-01\n",
      "  -1.05562095e+00   1.07856962e+00  -7.36456972e-01  -3.70391408e-01\n",
      "   2.15478520e-01  -5.39143573e-01  -2.87147236e-02  -2.33569561e-01\n",
      "  -7.93782011e-02  -7.28145914e-01  -6.00162532e-01  -3.84004556e-01\n",
      "  -8.20446625e-01   3.13449209e-03  -8.17458777e-01   8.38693610e-01\n",
      "  -6.67575268e-01   4.10716475e-01  -8.38455312e-01   1.96513405e-02\n",
      "   1.61155491e-01   5.29368685e-01   6.65203684e-01   4.35661552e-01\n",
      "   1.23612326e+00   6.00663680e-01  -2.02231585e-01   6.36091327e-01\n",
      "   6.25917331e-01  -1.99913578e+00  -2.65842576e-01   5.02354124e-01\n",
      "  -6.74718188e-01  -6.97625968e-01  -5.14196957e-01   5.58280852e-01\n",
      "   2.46473272e-01  -1.08524079e+00   5.68167477e-01   9.80135468e-01\n",
      "   2.38442025e-01   1.98711817e-01  -1.04131754e+00  -2.52713084e-01\n",
      "   1.82170428e-01   8.90103811e-01   6.54302954e-01  -8.81166910e-01\n",
      "  -3.27008751e-01  -1.57424584e-02   2.41671838e-01   3.01642231e-02\n",
      "  -1.99280812e+00   8.54340477e-02  -1.48842221e-03  -4.89686429e-01\n",
      "   1.05725863e-01  -2.71394380e-01   8.78801606e-01  -4.29030258e-01\n",
      "  -2.89506239e-01  -6.25049895e-01   1.18980957e-01  -1.60173261e+00]\n"
     ]
    }
   ],
   "source": [
    "le = LabelEncoder()\n",
    "w, loss_history = logistic_regression(X, le.fit_transform(y), 3000, 0.001, method='Adam')\n",
    "print(w)\n",
    "# print(loss_history)"
   ]
  },
  {
   "cell_type": "code",
   "execution_count": 59,
   "metadata": {},
   "outputs": [],
   "source": [
    "X0 = np.ones((X_test.shape[0], 1))\n",
    "X1 = hstack([X0, X_test])\n",
    "pred = np.round(sigmoid(X1.dot(w)))"
   ]
  },
  {
   "cell_type": "code",
   "execution_count": 60,
   "metadata": {},
   "outputs": [
    {
     "data": {
      "text/plain": [
       "0.85000921319329281"
      ]
     },
     "execution_count": 60,
     "metadata": {},
     "output_type": "execute_result"
    }
   ],
   "source": [
    "\n",
    "# pred = [1 if i == 1 else -1 for i in pred]\n",
    "accuracy_score(pred, le.transform(y_test))"
   ]
  },
  {
   "cell_type": "code",
   "execution_count": 52,
   "metadata": {},
   "outputs": [
    {
     "name": "stdout",
     "output_type": "stream",
     "text": [
      "0.849886370616\n",
      "[-0.61226923] [[ -1.38186964e+00  -4.10534879e-01   1.91495902e-01   4.93576938e-01\n",
      "    4.95062442e-01   2.62008012e-01  -1.36232303e-01   5.06998313e-01\n",
      "    6.94979401e-01   1.14332968e-02  -7.07484710e-02  -8.55288307e-01\n",
      "   -1.46797029e-01  -2.90251324e-01  -8.87454608e-02  -9.35988394e-02\n",
      "   -8.06781036e-02  -5.89955060e-02  -3.24236310e-01  -6.34109335e-02\n",
      "    1.89987943e-01  -2.40393283e-01   5.73926806e-01   4.67451071e-03\n",
      "    1.43579707e-02  -2.20267825e-01  -4.22765556e-01   5.29603171e-01\n",
      "   -8.69488850e-03  -3.59872367e-01   9.46111332e-02   7.32595009e-01\n",
      "   -1.99892732e-01  -9.12491884e-01  -1.30108812e+00  -2.40393283e-01\n",
      "   -6.34109335e-02   1.90324814e-02   9.73590617e-01   1.28371810e+00\n",
      "   -7.50239729e-01  -9.67231794e-01  -8.15146097e-01  -3.20658454e-01\n",
      "   -6.54630682e-01   1.61191942e+00   7.95058392e-01   1.69697997e-01\n",
      "   -6.34600179e-01   4.19409775e-01   8.92255089e-01   6.54334650e-01\n",
      "   -5.15156287e-01  -2.38314201e-01   1.48122318e-01  -6.88241681e-01\n",
      "    2.69808738e-02  -1.08051199e+00   7.91565335e-01  -3.27450154e-01\n",
      "    1.12346942e+00  -8.14059215e-01  -3.07998393e-01   1.01687600e-01\n",
      "   -5.68372001e-01  -1.46996649e-01   5.02571685e-02   1.84220953e-01\n",
      "   -4.28673044e-01  -3.15178336e-01  -1.02895976e-01  -7.14264353e-01\n",
      "    1.01995119e-01  -1.13193940e+00   5.19670169e-01  -8.43233629e-01\n",
      "    2.30964395e-01  -1.06459715e+00  -2.10613779e-01  -6.91205063e-02\n",
      "    2.98484005e-01   4.33578194e-01   4.11867146e-01   8.60935356e-01\n",
      "    5.30019559e-01  -2.00319586e-01   5.74769227e-01   5.66636817e-01\n",
      "   -6.06749064e-01  -2.48114052e-01   4.33831275e-01  -5.43692613e-01\n",
      "   -6.10953892e-01  -4.62315099e-01   4.90743484e-01   1.91955680e-01\n",
      "   -1.89920459e-01   5.36399223e-01   8.64921155e-01   1.80688959e-01\n",
      "    1.47825563e-01  -7.88737293e-01  -2.80800407e-01   1.04492429e-01\n",
      "    6.16933578e-01   5.04090948e-01  -6.07864920e-01  -1.92683354e-01\n",
      "   -2.49104337e-02   1.98655823e-01   7.04587639e-04  -1.31572897e+00\n",
      "    3.85659567e-02  -2.21557301e-02  -3.35250504e-01   5.18921179e-02\n",
      "   -1.72536508e-01   5.90852813e-01  -3.77610814e-01  -1.77387808e-01\n",
      "   -3.83537599e-01   7.96177278e-02  -9.55483060e-03]]\n"
     ]
    }
   ],
   "source": [
    "from sklearn.linear_model import LogisticRegression\n",
    "\n",
    "clf = LogisticRegression()\n",
    "clf.fit(X, y)\n",
    "print(clf.score(X_test, y_test))\n",
    "print (clf.intercept_, clf.coef_)"
   ]
  },
  {
   "cell_type": "code",
   "execution_count": 54,
   "metadata": {},
   "outputs": [
    {
     "data": {
      "image/png": "[encoded data removed]",
      "text/plain": [
       "<matplotlib.figure.Figure at 0x7f998abd7e80>"
      ]
     },
     "metadata": {},
     "output_type": "display_data"
    }
   ],
   "source": [
    "plt.plot(loss_history)\n",
    "plt.show()\n",
    "# print(loss_history)"
   ]
  },
  {
   "cell_type": "code",
   "execution_count": 11,
   "metadata": {},
   "outputs": [
    {
     "name": "stderr",
     "output_type": "stream",
     "text": [
      "/home/sundoge/anaconda3/lib/python3.6/site-packages/matplotlib/cbook/deprecation.py:106: MatplotlibDeprecationWarning: Adding an axes using the same arguments as a previous axes currently reuses the earlier instance.  In a future version, a new instance will always be created and returned.  Meanwhile, this warning can be suppressed, and the future behavior ensured, by passing a unique label to each axes instance.\n",
      "  warnings.warn(message, mplDeprecation, stacklevel=1)\n"
     ]
    },
    {
     "name": "stdout",
     "output_type": "stream",
     "text": [
      "accuracy:  0.842638658559 ------ NAG\n",
      "accuracy:  0.850132055771 ------ RMSProp\n",
      "accuracy:  0.849640685462 ------ AdaDelta\n",
      "accuracy:  0.850009213193 ------ Adam\n"
     ]
    },
    {
     "data": {
      "image/png": "[encoded data removed]",
      "text/plain": [
       "<matplotlib.figure.Figure at 0x7f5df90de198>"
      ]
     },
     "metadata": {},
     "output_type": "display_data"
    }
   ],
   "source": [
    "f = plt.figure('Loss')\n",
    "ax = f.add_subplot(111)\n",
    "ax.set_title('training loss')\n",
    "ax.set_xlabel('training iterations')\n",
    "ax.set_ylabel('loss')\n",
    "algorithms = ['NAG', 'RMSProp', 'AdaDelta', 'Adam']\n",
    "for algorithm in algorithms:\n",
    "    le = LabelEncoder()\n",
    "    w, loss_history = logistic_regression(X, le.fit_transform(y), 1000, 0.0001, method=algorithm)\n",
    "    X0 = np.ones((X_test.shape[0], 1))\n",
    "    X1 = hstack([X0, X_test])\n",
    "    pred = np.round(sigmoid(X1.dot(w)))\n",
    "    print('accuracy: ', accuracy_score(pred, le.transform(y_test)), '------', algorithm)\n",
    "    ax.plot(loss_history, label=algorithm)\n",
    "\n",
    "ax.legend()\n",
    "plt.show()"
   ]
  },
  {
   "cell_type": "code",
   "execution_count": null,
   "metadata": {},
   "outputs": [],
   "source": []
  }
 ],
 "metadata": {
  "kernelspec": {
   "display_name": "Python 3",
   "language": "python",
   "name": "python3"
  },
  "language_info": {
   "codemirror_mode": {
    "name": "ipython",
    "version": 3
   },
   "file_extension": ".py",
   "mimetype": "text/x-python",
   "name": "python",
   "nbconvert_exporter": "python",
   "pygments_lexer": "ipython3",
   "version": "3.6.3"
  }
 },
 "nbformat": 4,
 "nbformat_minor": 2
}
