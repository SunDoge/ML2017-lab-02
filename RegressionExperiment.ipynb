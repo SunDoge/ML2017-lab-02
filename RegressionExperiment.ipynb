{
 "cells": [
  {
   "cell_type": "code",
   "execution_count": 1,
   "metadata": {
    "collapsed": true
   },
   "outputs": [],
   "source": [
    "import numpy as np\n",
    "from sklearn.datasets import load_svmlight_file\n",
    "from sklearn.model_selection import train_test_split\n",
    "from sklearn.preprocessing import LabelEncoder\n",
    "from sklearn.metrics import accuracy_score\n",
    "import matplotlib.pyplot as plt\n",
    "import requests\n",
    "from scipy.sparse import hstack\n",
    "from scipy.special import expit"
   ]
  },
  {
   "cell_type": "code",
   "execution_count": 2,
   "metadata": {},
   "outputs": [],
   "source": [
    "def download_data(url):\n",
    "# data_url = 'https://www.csie.ntu.edu.tw/~cjlin/libsvmtools/datasets/regression/housing_scale'\n",
    "    data = requests.get(url)\n",
    "    file_name = url.split('/')[-1] + '.svm'\n",
    "    with open(file_name, 'w') as f:\n",
    "        f.write(data.text)\n",
    "    return file_name"
   ]
  },
  {
   "cell_type": "code",
   "execution_count": 3,
   "metadata": {},
   "outputs": [],
   "source": [
    "a9a = download_data('https://www.csie.ntu.edu.tw/~cjlin/libsvmtools/datasets/binary/a9a')\n",
    "a9at = download_data('https://www.csie.ntu.edu.tw/~cjlin/libsvmtools/datasets/binary/a9a.t')"
   ]
  },
  {
   "cell_type": "code",
   "execution_count": 3,
   "metadata": {},
   "outputs": [],
   "source": [
    "X, y = load_svmlight_file('a9a.svm', n_features=123)\n",
    "X_test, y_test = load_svmlight_file('a9a.t.svm', n_features=123)"
   ]
  },
  {
   "cell_type": "code",
   "execution_count": 4,
   "metadata": {},
   "outputs": [],
   "source": [
    "def sigmoid(z):  \n",
    "    return 1.0 / (1 + np.exp(-z))\n",
    "# avoid overflow\n",
    "#     return expit(z)"
   ]
  },
  {
   "cell_type": "code",
   "execution_count": 5,
   "metadata": {},
   "outputs": [],
   "source": [
    "def loss_fn(X, y, w):\n",
    "    m = X.shape[0]\n",
    "    h = sigmoid(X.dot(w))\n",
    "#     if 0 in h or 1 in h:\n",
    "#         print(h)\n",
    "    j = np.sum(y*np.log(h)+(1-y)*np.log(1-h)) / m\n",
    "    return -j"
   ]
  },
  {
   "cell_type": "code",
   "execution_count": 6,
   "metadata": {},
   "outputs": [],
   "source": [
    "def gradient(X, y, w):\n",
    "    h = sigmoid(X.dot(w))\n",
    "    error = h - y\n",
    "    grad = X.T.dot(error)\n",
    "    return grad"
   ]
  },
  {
   "cell_type": "code",
   "execution_count": 7,
   "metadata": {},
   "outputs": [],
   "source": [
    "def logistic_regression(X, y, iterations, learning_rate, method='gd', batch_size=200):\n",
    "    loss_history = []\n",
    "    X0 = np.ones((X.shape[0], 1))\n",
    "    X = hstack([X0, X], format='csr')\n",
    "    w = np.ones(X.shape[1])\n",
    "    v = np.zeros(X.shape[1])\n",
    "    G = np.zeros(X.shape[1])\n",
    "    gamma = 0.9\n",
    "    beta = 0.9\n",
    "    epsilon = 1e-5\n",
    "    delta = np.zeros(X.shape[1])\n",
    "    m = np.zeros(X.shape[1])\n",
    "    \n",
    "    loss = loss_fn(X, y, w)\n",
    "    loss_history.append(loss)\n",
    "    for i in range(iterations):\n",
    "        batch_idx = np.random.choice(X.shape[0], batch_size)\n",
    "#         print(batch_idx)\n",
    "        X_batch = X[batch_idx]\n",
    "        y_batch = y[batch_idx]\n",
    "        if method == 'gd':            \n",
    "            grad = gradient(X_batch, y_batch, w)\n",
    "            w -= learning_rate * grad\n",
    "            \n",
    "        elif method == 'NAG':\n",
    "            grad = gradient(X_batch, y_batch, w - gamma * v)\n",
    "            v = gamma * v + learning_rate * grad\n",
    "            w -= v\n",
    "            \n",
    "        elif method == 'RMSProp':\n",
    "            grad = gradient(X_batch, y_batch, w)\n",
    "            G = gamma * G + (1 - gamma) * np.square(grad)\n",
    "            w -= learning_rate * 100 * grad / np.sqrt(G + epsilon)\n",
    "            \n",
    "        elif method == 'AdaDelta':\n",
    "            grad = gradient(X_batch, y_batch, w)\n",
    "            G = gamma * G + (1 - gamma)* np.square(grad)\n",
    "            dw = -np.sqrt(delta + epsilon) / np.sqrt(G + epsilon) * grad\n",
    "            w += dw\n",
    "            delta = gamma * delta + (1 - gamma) * np.square(delta)\n",
    "            \n",
    "        elif method == 'Adam':\n",
    "            t = i + 1\n",
    "            grad = gradient(X_batch, y_batch, w)\n",
    "            m = beta * m + (1 - beta) * grad\n",
    "            G = gamma * G + (1 - gamma) * np.square(grad)\n",
    "            alpha = learning_rate * 100 * np.sqrt(1 - gamma ** t) / (1 - beta ** t)\n",
    "            w -= alpha * m / np.sqrt(G + epsilon)\n",
    "#             print(alpha)\n",
    "        \n",
    "            \n",
    "            \n",
    "        loss = loss_fn(X, y, w)\n",
    "        loss_history.append(loss)\n",
    "        \n",
    "    return w, loss_history"
   ]
  },
  {
   "cell_type": "code",
   "execution_count": 11,
   "metadata": {},
   "outputs": [
    {
     "name": "stdout",
     "output_type": "stream",
     "text": [
      "[-1.85817574  0.00317463  0.25476822  0.57907765  0.71543533  0.58936842\n",
      " -0.14539647  0.39539294  0.90735985  0.89217353  0.57561732  0.72670322\n",
      "  0.99291079  0.99829575  0.37741808  0.45814374  0.50381357  0.41053599\n",
      "  0.39191287  0.83765984  0.43940702  0.7613857   0.24420905  1.05597653\n",
      "  0.84054141  0.81133773  0.8438882   0.78333626  0.90817649  1.01503564\n",
      "  0.92154637  0.79499359  1.0525179   0.85624372  0.97556881 -0.15486087\n",
      "  0.24420905  0.43940702  0.65187914  0.96118991  1.00450467  0.26818987\n",
      " -0.47313204  0.72124297  0.77205464  0.84429817  1.00466598  0.97742801\n",
      "  0.707587    0.33185376  0.83814464  1.15908241  0.92311628  0.74750504\n",
      "  0.70585422  0.57064633  0.69794083  0.80616969  0.95699272  0.92521017\n",
      "  0.99723005  1.09894809  0.19246404  0.97586195 -0.03087405  0.70940931\n",
      "  0.19601492 -0.36022396  0.54575476  0.88354585  0.8571072   0.2156404\n",
      " -0.61487085 -0.24330489 -1.56620347  0.70802773 -1.54252611  0.68435037\n",
      " -0.02285952  0.55669494  0.02294684  0.82782694  0.75721506 -0.48579761\n",
      "  0.99265382  0.97758033  0.94189333  0.96591196  0.95474535  0.99195666\n",
      "  0.95186925  0.97766943  0.98764752  0.94824041  0.95605549  0.96807567\n",
      "  0.98640218  0.99425456  0.90711266  0.97970896  0.97892225  0.95939308\n",
      "  0.95669416  0.71997337  0.98411393  0.99509271  0.99305012  0.96198429\n",
      "  0.98789167  0.98634167  0.97612871  0.97258755  0.96549143  0.99399343\n",
      "  0.97285242  0.98252349  0.99652279  0.98906692  0.99482922  0.95465807\n",
      "  0.98908463  0.98662384  0.98999869  0.99946952]\n"
     ]
    }
   ],
   "source": [
    "le = LabelEncoder()\n",
    "w, loss_history = logistic_regression(X, le.fit_transform(y), 2000, 0.0001, method='gd')\n",
    "print(w)\n",
    "# print(loss_history)"
   ]
  },
  {
   "cell_type": "code",
   "execution_count": 12,
   "metadata": {},
   "outputs": [],
   "source": [
    "X0 = np.ones((X_test.shape[0], 1))\n",
    "X1 = hstack([X0, X_test])\n",
    "pred = np.round(sigmoid(X1.dot(w)))"
   ]
  },
  {
   "cell_type": "code",
   "execution_count": 13,
   "metadata": {},
   "outputs": [
    {
     "data": {
      "text/plain": [
       "0.81856151342055161"
      ]
     },
     "execution_count": 13,
     "metadata": {},
     "output_type": "execute_result"
    }
   ],
   "source": [
    "\n",
    "# pred = [1 if i == 1 else -1 for i in pred]\n",
    "accuracy_score(pred, le.transform(y_test))"
   ]
  },
  {
   "cell_type": "code",
   "execution_count": 14,
   "metadata": {},
   "outputs": [
    {
     "name": "stdout",
     "output_type": "stream",
     "text": [
      "0.849824949327\n",
      "[-0.61206205] [[-1.3812299  -0.41083569  0.19147326  0.49352529  0.49500499  0.26112624\n",
      "  -0.13684575  0.50602223  0.6944782   0.00993066 -0.07159932 -0.83474086\n",
      "  -0.12755718 -0.29047802 -0.0887569  -0.09352184 -0.08057406 -0.05873122\n",
      "  -0.32426662 -0.06361783  0.18817062 -0.24061352  0.57384289  0.00456175\n",
      "   0.01423259 -0.22180792 -0.42415565  0.52784434 -0.0083241  -0.359854\n",
      "   0.09457389  0.73196836 -0.20224754 -0.90236931 -1.29984557 -0.24061352\n",
      "  -0.06361783  0.01879434  0.97322052  1.27836531 -0.74750606 -0.9648665\n",
      "  -0.80935508 -0.31733975 -0.65048546  1.5991255   0.79575943  0.17029333\n",
      "  -0.63384905  0.4200784   0.89291027  0.65506285 -0.51461892 -0.23762375\n",
      "   0.14879632 -0.68801672  0.02746823 -1.09165296  0.79262818 -0.3088642\n",
      "   1.12823032 -0.816244   -0.3026011   0.09875712 -0.56924983 -0.15095457\n",
      "   0.05035012  0.18399847 -0.43008574 -0.31387284 -0.10245206 -0.71385645\n",
      "   0.1017944  -1.1317544   0.51969235 -0.84327508  0.23121303 -1.06461522\n",
      "  -0.21084039 -0.06912396  0.29881303  0.43370449  0.41219114  0.85892202\n",
      "   0.53197972 -0.20209666  0.57268158  0.56606337 -0.57736423 -0.24927909\n",
      "   0.43681322 -0.5383605  -0.6122178  -0.46401626  0.49315223  0.19048513\n",
      "  -0.17127715  0.53948985  0.86940218  0.18038336  0.14520346 -0.78133218\n",
      "  -0.28035542  0.10791761  0.6242007   0.49793709 -0.61043133 -0.19462456\n",
      "  -0.02354699  0.19937269  0.0035187  -1.32247818  0.04127042 -0.01975244\n",
      "  -0.3381618   0.05458668 -0.17384463  0.59895488 -0.37647039 -0.17861608\n",
      "  -0.38743157  0.0823111  -0.00822839]]\n"
     ]
    }
   ],
   "source": [
    "from sklearn.linear_model import LogisticRegression\n",
    "\n",
    "clf = LogisticRegression()\n",
    "clf.fit(X, y)\n",
    "print(clf.score(X_test, y_test))\n",
    "print (clf.intercept_, clf.coef_)"
   ]
  },
  {
   "cell_type": "code",
   "execution_count": 15,
   "metadata": {},
   "outputs": [
    {
     "data": {
      "image/png": "[encoded data removed]",
      "text/plain": [
       "<matplotlib.figure.Figure at 0x7f323b757390>"
      ]
     },
     "metadata": {},
     "output_type": "display_data"
    }
   ],
   "source": [
    "plt.plot(loss_history)\n",
    "plt.show()\n",
    "# print(loss_history)"
   ]
  },
  {
   "cell_type": "code",
   "execution_count": 16,
   "metadata": {},
   "outputs": [
    {
     "name": "stdout",
     "output_type": "stream",
     "text": [
      "accuracy:  0.84706099134 ------ NAG\n",
      "accuracy:  0.849456421596 ------ RMSProp\n",
      "accuracy:  0.850991953811 ------ AdaDelta\n",
      "accuracy:  0.848719366132 ------ Adam\n"
     ]
    },
    {
     "data": {
      "image/png": "[encoded data removed]",
      "text/plain": [
       "<matplotlib.figure.Figure at 0x7f3215aa06a0>"
      ]
     },
     "metadata": {},
     "output_type": "display_data"
    }
   ],
   "source": [
    "f = plt.figure('Loss', figsize=(10, 8))\n",
    "ax = f.add_subplot(111)\n",
    "ax.set_title('training loss')\n",
    "ax.set_xlabel('training iterations')\n",
    "ax.set_ylabel('loss')\n",
    "algorithms = ['NAG', 'RMSProp', 'AdaDelta', 'Adam']\n",
    "for algorithm in algorithms:\n",
    "    le = LabelEncoder()\n",
    "    w, loss_history = logistic_regression(X, le.fit_transform(y), 1000, 0.0001, method=algorithm)\n",
    "    X0 = np.ones((X_test.shape[0], 1))\n",
    "    X1 = hstack([X0, X_test])\n",
    "    pred = np.round(sigmoid(X1.dot(w)))\n",
    "    print('accuracy: ', accuracy_score(pred, le.transform(y_test)), '------', algorithm)\n",
    "    ax.plot(loss_history, label=algorithm)\n",
    "\n",
    "ax.legend()\n",
    "plt.show()"
   ]
  },
  {
   "cell_type": "code",
   "execution_count": null,
   "metadata": {},
   "outputs": [],
   "source": []
  }
 ],
 "metadata": {
  "kernelspec": {
   "display_name": "Python 3",
   "language": "python",
   "name": "python3"
  },
  "language_info": {
   "codemirror_mode": {
    "name": "ipython",
    "version": 3
   },
   "file_extension": ".py",
   "mimetype": "text/x-python",
   "name": "python",
   "nbconvert_exporter": "python",
   "pygments_lexer": "ipython3",
   "version": "3.6.3"
  }
 },
 "nbformat": 4,
 "nbformat_minor": 2
}
