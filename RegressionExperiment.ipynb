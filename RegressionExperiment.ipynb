{
 "cells": [
  {
   "cell_type": "code",
   "execution_count": 3,
   "metadata": {
    "collapsed": true
   },
   "outputs": [],
   "source": [
    "import numpy as np\n",
    "from sklearn.datasets import load_svmlight_file\n",
    "from sklearn.model_selection import train_test_split\n",
    "from sklearn.preprocessing import LabelEncoder\n",
    "from sklearn.metrics import accuracy_score\n",
    "import matplotlib.pyplot as plt\n",
    "import requests\n",
    "from scipy.sparse import hstack\n",
    "from scipy.special import expit"
   ]
  },
  {
   "cell_type": "code",
   "execution_count": 2,
   "metadata": {},
   "outputs": [],
   "source": [
    "def download_data(url):\n",
    "# data_url = 'https://www.csie.ntu.edu.tw/~cjlin/libsvmtools/datasets/regression/housing_scale'\n",
    "    data = requests.get(url)\n",
    "    file_name = url.split('/')[-1] + '.svm'\n",
    "    with open(file_name, 'w') as f:\n",
    "        f.write(data.text)\n",
    "    return file_name"
   ]
  },
  {
   "cell_type": "code",
   "execution_count": 3,
   "metadata": {},
   "outputs": [],
   "source": [
    "a9a = download_data('https://www.csie.ntu.edu.tw/~cjlin/libsvmtools/datasets/binary/a9a')\n",
    "a9at = download_data('https://www.csie.ntu.edu.tw/~cjlin/libsvmtools/datasets/binary/a9a.t')"
   ]
  },
  {
   "cell_type": "code",
   "execution_count": 4,
   "metadata": {},
   "outputs": [],
   "source": [
    "X, y = load_svmlight_file('a9a.svm', n_features=123)\n",
    "X_test, y_test = load_svmlight_file('a9a.t.svm', n_features=123)"
   ]
  },
  {
   "cell_type": "code",
   "execution_count": 5,
   "metadata": {},
   "outputs": [],
   "source": [
    "def sigmoid(z):  \n",
    "    return 1.0 / (1 + np.exp(-z))\n",
    "# avoid overflow\n",
    "#     return expit(z)"
   ]
  },
  {
   "cell_type": "code",
   "execution_count": 6,
   "metadata": {},
   "outputs": [],
   "source": [
    "def loss_fn(X, y, w):\n",
    "    m = X.shape[0]\n",
    "    h = sigmoid(X.dot(w))\n",
    "#     if 0 in h or 1 in h:\n",
    "#         print(h)\n",
    "    j = np.sum(y*np.log(h)+(1-y)*np.log(1-h)) / m\n",
    "    return -j"
   ]
  },
  {
   "cell_type": "code",
   "execution_count": 7,
   "metadata": {},
   "outputs": [],
   "source": [
    "def gradient(X, y, w):\n",
    "    h = sigmoid(X.dot(w))\n",
    "    error = h - y\n",
    "    grad = X.T.dot(error)\n",
    "    return grad"
   ]
  },
  {
   "cell_type": "code",
   "execution_count": 8,
   "metadata": {},
   "outputs": [],
   "source": [
    "def logistic_regression(X, y, iterations, learning_rate, method='gd', batch_size=200):\n",
    "    loss_history = []\n",
    "    X0 = np.ones((X.shape[0], 1))\n",
    "    X = hstack([X0, X], format='csr')\n",
    "    w = np.ones(X.shape[1])\n",
    "    v = np.zeros(X.shape[1])\n",
    "    G = np.zeros(X.shape[1])\n",
    "    gamma = 0.9\n",
    "    beta = 0.9\n",
    "    epsilon = 1e-5\n",
    "    delta = np.zeros(X.shape[1])\n",
    "    m = np.zeros(X.shape[1])\n",
    "    \n",
    "    loss = loss_fn(X, y, w)\n",
    "    loss_history.append(loss)\n",
    "    for i in range(iterations):\n",
    "        batch_idx = np.random.choice(X.shape[0], batch_size)\n",
    "#         print(batch_idx)\n",
    "        X_batch = X[batch_idx]\n",
    "        y_batch = y[batch_idx]\n",
    "        if method == 'gd':            \n",
    "            grad = gradient(X_batch, y_batch, w)\n",
    "            w -= learning_rate * grad\n",
    "            \n",
    "        elif method == 'NAG':\n",
    "            grad = gradient(X_batch, y_batch, w - gamma * v)\n",
    "            v = gamma * v + learning_rate * grad\n",
    "            w -= v\n",
    "            \n",
    "        elif method == 'RMSProp':\n",
    "            grad = gradient(X_batch, y_batch, w)\n",
    "            G = gamma * G + (1 - gamma) * np.square(grad)\n",
    "            w -= learning_rate * 100 * grad / np.sqrt(G + epsilon)\n",
    "            \n",
    "        elif method == 'AdaDelta':\n",
    "            grad = gradient(X_batch, y_batch, w)\n",
    "            G = gamma * G + (1 - gamma)* np.square(grad)\n",
    "            dw = -np.sqrt(delta + epsilon) / np.sqrt(G + epsilon) * grad\n",
    "            w += dw\n",
    "            delta = gamma * delta + (1 - gamma) * np.square(delta)\n",
    "            \n",
    "        elif method == 'Adam':\n",
    "            t = i + 1\n",
    "            grad = gradient(X_batch, y_batch, w)\n",
    "            m = beta * m + (1 - beta) * grad\n",
    "            G = gamma * G + (1 - gamma) * np.square(grad)\n",
    "            alpha = learning_rate * 100 * np.sqrt(1 - gamma ** t) / (1 - beta ** t)\n",
    "            w -= alpha * m / np.sqrt(G + epsilon)\n",
    "#             print(alpha)\n",
    "        \n",
    "            \n",
    "            \n",
    "        loss = loss_fn(X, y, w)\n",
    "        loss_history.append(loss)\n",
    "        \n",
    "    return w, loss_history"
   ]
  },
  {
   "cell_type": "code",
   "execution_count": 10,
   "metadata": {},
   "outputs": [
    {
     "name": "stdout",
     "output_type": "stream",
     "text": [
      "[-1.61843513  0.15755129  0.36071759  0.588948    0.69786711  0.57648089\n",
      " -0.36629003  0.60401215  0.93398567  0.91619987  0.69317893  0.80142178\n",
      "  0.99610984  0.99884066  0.44084397  0.49648824  0.53197781  0.45800309\n",
      "  0.45425177  0.81569871  0.43000739  0.80800385  0.22051777  1.02408895\n",
      "  0.87228318  0.85395998  0.89194758  0.85412496  0.92682011  0.98612225\n",
      "  0.94555941  0.84257719  1.02024235  0.90420353  0.98540764  0.15864429\n",
      "  0.22051777  0.43000739  0.72624316  0.84615226  0.8542135   0.37097426\n",
      " -0.33863217  0.7890639   0.81495688  0.89093364  1.00005486  0.95874156\n",
      "  0.72260857  0.48006053  0.79708281  1.02227276  0.86131253  0.81540149\n",
      "  0.76998572  0.58762059  0.80763911  0.85406909  0.96443444  0.93926141\n",
      "  0.99812761  0.98114604  0.30416827  0.91489394  0.02449832  0.79160686\n",
      "  0.36525146 -0.56873336  0.72183802  0.92120933  0.91344805  0.39380283\n",
      " -0.46151024 -0.15692489 -1.44184581  0.82341068 -1.43710928  0.81867415\n",
      "  0.17507548  0.65372583 -0.05122749  0.86551808  0.73847297 -0.75339713\n",
      "  0.99663141  0.98512574  0.96642215  0.97850314  0.97591769  0.99465026\n",
      "  0.97341266  0.98617786  0.9931133   0.96968285  0.97424426  0.97959445\n",
      "  0.99189759  0.99472553  0.94020665  0.98768954  0.98496674  0.97345285\n",
      "  0.97386223  0.81398056  0.98758896  0.99516188  0.99535568  0.97691162\n",
      "  0.99248826  0.99213451  0.98797731  0.98322628  0.98136008  0.99675545\n",
      "  0.97994103  0.98949146  0.99768986  0.99284699  0.99690948  0.97256396\n",
      "  0.99195402  0.99251406  0.99442199  0.99954154]\n"
     ]
    }
   ],
   "source": [
    "le = LabelEncoder()\n",
    "w, loss_history = logistic_regression(X, le.fit_transform(y), 1000, 0.0001, method='gd')\n",
    "print(w)\n",
    "# print(loss_history)"
   ]
  },
  {
   "cell_type": "code",
   "execution_count": 11,
   "metadata": {},
   "outputs": [],
   "source": [
    "X0 = np.ones((X_test.shape[0], 1))\n",
    "X1 = hstack([X0, X_test])\n",
    "pred = np.round(sigmoid(X1.dot(w)))"
   ]
  },
  {
   "cell_type": "code",
   "execution_count": 12,
   "metadata": {},
   "outputs": [
    {
     "data": {
      "text/plain": [
       "0.79460721085928387"
      ]
     },
     "execution_count": 12,
     "metadata": {},
     "output_type": "execute_result"
    }
   ],
   "source": [
    "\n",
    "# pred = [1 if i == 1 else -1 for i in pred]\n",
    "accuracy_score(pred, le.transform(y_test))"
   ]
  },
  {
   "cell_type": "code",
   "execution_count": 13,
   "metadata": {},
   "outputs": [
    {
     "name": "stdout",
     "output_type": "stream",
     "text": [
      "0.849886370616\n",
      "[-0.61226931] [[ -1.38186934e+00  -4.10535788e-01   1.91495613e-01   4.93577121e-01\n",
      "    4.95063092e-01   2.62007777e-01  -1.36231202e-01   5.06998067e-01\n",
      "    6.94979457e-01   1.14327044e-02  -7.07482440e-02  -8.55287620e-01\n",
      "   -1.46792550e-01  -2.90252135e-01  -8.87461415e-02  -9.35991843e-02\n",
      "   -8.06762176e-02  -5.89956284e-02  -3.24234506e-01  -6.34106249e-02\n",
      "    1.89988062e-01  -2.40393352e-01   5.73927600e-01   4.67359494e-03\n",
      "    1.43577518e-02  -2.20267987e-01  -4.22767096e-01   5.29601994e-01\n",
      "   -8.69602603e-03  -3.59870556e-01   9.46121885e-02   7.32595311e-01\n",
      "   -1.99893632e-01  -9.12492030e-01  -1.30108906e+00  -2.40393352e-01\n",
      "   -6.34106249e-02   1.90313468e-02   9.73592379e-01   1.28371813e+00\n",
      "   -7.50240846e-01  -9.67232514e-01  -8.15147487e-01  -3.20659059e-01\n",
      "   -6.54631218e-01   1.61192369e+00   7.95057008e-01   1.69706091e-01\n",
      "   -6.34602703e-01   4.19404844e-01   8.92256222e-01   6.54332958e-01\n",
      "   -5.15156878e-01  -2.38313153e-01   1.48122592e-01  -6.88241489e-01\n",
      "    2.69798882e-02  -1.08050991e+00   7.91563495e-01  -3.27448024e-01\n",
      "    1.12347147e+00  -8.14059218e-01  -3.08000042e-01   1.01686484e-01\n",
      "   -5.68371563e-01  -1.46996433e-01   5.02582956e-02   1.84221142e-01\n",
      "   -4.28671371e-01  -3.15178664e-01  -1.02898710e-01  -7.14263940e-01\n",
      "    1.01994633e-01  -1.13194145e+00   5.19672144e-01  -8.43233678e-01\n",
      "    2.30964370e-01  -1.06459896e+00  -2.10613989e-01  -6.91201290e-02\n",
      "    2.98483328e-01   4.33580438e-01   4.11867776e-01   8.60935608e-01\n",
      "    5.30019450e-01  -2.00320790e-01   5.74769754e-01   5.66638417e-01\n",
      "   -6.06745963e-01  -2.48114680e-01   4.33830149e-01  -5.43693308e-01\n",
      "   -6.10951446e-01  -4.62315062e-01   4.90743556e-01   1.91955006e-01\n",
      "   -1.89916790e-01   5.36399658e-01   8.64922464e-01   1.80687065e-01\n",
      "    1.47825602e-01  -7.88738620e-01  -2.80799604e-01   1.04492144e-01\n",
      "    6.16932029e-01   5.04092783e-01  -6.07864131e-01  -1.92683042e-01\n",
      "   -2.49103159e-02   1.98655697e-01   7.04459339e-04  -1.31572763e+00\n",
      "    3.85660949e-02  -2.21556741e-02  -3.35249873e-01   5.18922398e-02\n",
      "   -1.72536134e-01   5.90851378e-01  -3.77610003e-01  -1.77387623e-01\n",
      "   -3.83537220e-01   7.96175250e-02  -9.55446589e-03]]\n"
     ]
    }
   ],
   "source": [
    "from sklearn.linear_model import LogisticRegression\n",
    "\n",
    "clf = LogisticRegression()\n",
    "clf.fit(X, y)\n",
    "print(clf.score(X_test, y_test))\n",
    "print (clf.intercept_, clf.coef_)"
   ]
  },
  {
   "cell_type": "code",
   "execution_count": 14,
   "metadata": {},
   "outputs": [
    {
     "data": {
      "image/png": "[encoded data removed]",
      "text/plain": [
       "<matplotlib.figure.Figure at 0x11bf67588>"
      ]
     },
     "metadata": {},
     "output_type": "display_data"
    }
   ],
   "source": [
    "plt.plot(loss_history)\n",
    "plt.show()\n",
    "# print(loss_history)"
   ]
  },
  {
   "cell_type": "code",
   "execution_count": 15,
   "metadata": {},
   "outputs": [
    {
     "name": "stdout",
     "output_type": "stream",
     "text": [
      "accuracy:  0.846201093299 ------ NAG\n",
      "accuracy:  0.848965051287 ------ RMSProp\n",
      "accuracy:  0.851544745409 ------ AdaDelta\n",
      "accuracy:  0.849886370616 ------ Adam\n"
     ]
    },
    {
     "data": {
      "image/png": "[encoded data removed]",
      "text/plain": [
       "<matplotlib.figure.Figure at 0x11c2319b0>"
      ]
     },
     "metadata": {},
     "output_type": "display_data"
    }
   ],
   "source": [
    "f = plt.figure('Loss', figsize=(10, 8))\n",
    "ax = f.add_subplot(111)\n",
    "ax.set_title('training loss')\n",
    "ax.set_xlabel('training iterations')\n",
    "ax.set_ylabel('loss')\n",
    "algorithms = ['NAG', 'RMSProp', 'AdaDelta', 'Adam']\n",
    "for algorithm in algorithms:\n",
    "    le = LabelEncoder()\n",
    "    w, loss_history = logistic_regression(X, le.fit_transform(y), 1000, 0.0001, method=algorithm)\n",
    "    X0 = np.ones((X_test.shape[0], 1))\n",
    "    X1 = hstack([X0, X_test])\n",
    "    pred = np.round(sigmoid(X1.dot(w)))\n",
    "    print('accuracy: ', accuracy_score(pred, le.transform(y_test)), '------', algorithm)\n",
    "    ax.plot(loss_history, label=algorithm)\n",
    "\n",
    "ax.legend()\n",
    "plt.show()"
   ]
  },
  {
   "cell_type": "code",
   "execution_count": null,
   "metadata": {},
   "outputs": [],
   "source": []
  }
 ],
 "metadata": {
  "kernelspec": {
   "display_name": "Python 3",
   "language": "python",
   "name": "python3"
  },
  "language_info": {
   "codemirror_mode": {
    "name": "ipython",
    "version": 3
   },
   "file_extension": ".py",
   "mimetype": "text/x-python",
   "name": "python",
   "nbconvert_exporter": "python",
   "pygments_lexer": "ipython3",
   "version": "3.6.3"
  }
 },
 "nbformat": 4,
 "nbformat_minor": 2
}
