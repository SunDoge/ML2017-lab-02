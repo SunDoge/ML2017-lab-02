{
 "cells": [
  {
   "cell_type": "code",
   "execution_count": 16,
   "metadata": {
    "collapsed": true
   },
   "outputs": [],
   "source": [
    "import numpy as np\n",
    "from sklearn.datasets import load_svmlight_file\n",
    "from sklearn.model_selection import train_test_split\n",
    "from sklearn.preprocessing import LabelEncoder\n",
    "from sklearn.metrics import accuracy_score\n",
    "import matplotlib.pyplot as plt\n",
    "import requests\n",
    "from scipy.sparse import hstack\n",
    "from scipy.special import expit"
   ]
  },
  {
   "cell_type": "code",
   "execution_count": 2,
   "metadata": {},
   "outputs": [],
   "source": [
    "def download_data(url):\n",
    "# data_url = 'https://www.csie.ntu.edu.tw/~cjlin/libsvmtools/datasets/regression/housing_scale'\n",
    "    data = requests.get(url)\n",
    "    file_name = url.split('/')[-1] + '.svm'\n",
    "    with open(file_name, 'w') as f:\n",
    "        f.write(data.text)\n",
    "    return file_name"
   ]
  },
  {
   "cell_type": "code",
   "execution_count": 3,
   "metadata": {},
   "outputs": [],
   "source": [
    "a9a = download_data('https://www.csie.ntu.edu.tw/~cjlin/libsvmtools/datasets/binary/a9a')\n",
    "a9at = download_data('https://www.csie.ntu.edu.tw/~cjlin/libsvmtools/datasets/binary/a9a.t')"
   ]
  },
  {
   "cell_type": "code",
   "execution_count": 4,
   "metadata": {},
   "outputs": [],
   "source": [
    "X, y = load_svmlight_file('a9a.svm', n_features=123)\n",
    "X_test, y_test = load_svmlight_file('a9a.t.svm', n_features=123)"
   ]
  },
  {
   "cell_type": "code",
   "execution_count": 5,
   "metadata": {},
   "outputs": [],
   "source": [
    "def sigmoid(z):  \n",
    "    return 1.0 / (1 + np.exp(-z))\n",
    "# avoid overflow\n",
    "#     return expit(z)"
   ]
  },
  {
   "cell_type": "code",
   "execution_count": 6,
   "metadata": {},
   "outputs": [],
   "source": [
    "def loss_fn(X, y, w):\n",
    "    m = X.shape[0]\n",
    "    h = sigmoid(X.dot(w))\n",
    "#     if 0 in h or 1 in h:\n",
    "#         print(h)\n",
    "    j = np.sum(y*np.log(h)+(1-y)*np.log(1-h)) / m\n",
    "    return -j"
   ]
  },
  {
   "cell_type": "code",
   "execution_count": 7,
   "metadata": {},
   "outputs": [],
   "source": [
    "def gradient(X, y, w):\n",
    "    h = sigmoid(X.dot(w))\n",
    "    error = h - y\n",
    "    grad = X.T.dot(error)\n",
    "    return grad"
   ]
  },
  {
   "cell_type": "code",
   "execution_count": 38,
   "metadata": {},
   "outputs": [],
   "source": [
    "def logistic_regression(X, y, iterations, learning_rate, method='gd', batch_size=200):\n",
    "    loss_history = []\n",
    "    X0 = np.ones((X.shape[0], 1))\n",
    "    X = hstack([X0, X], format='csr')\n",
    "    w = np.ones(X.shape[1])\n",
    "    v = np.zeros(X.shape[1])\n",
    "    G = np.zeros(X.shape[1])\n",
    "    gamma = 0.9\n",
    "    beta = 0.9\n",
    "    epsilon = 1e-5\n",
    "    delta = np.zeros(X.shape[1])\n",
    "    m = np.zeros(X.shape[1])\n",
    "    \n",
    "    loss = loss_fn(X, y, w)\n",
    "    loss_history.append(loss)\n",
    "    for i in range(iterations):\n",
    "        batch_idx = np.random.choice(X.shape[0], batch_size)\n",
    "#         print(batch_idx)\n",
    "        X_batch = X[batch_idx]\n",
    "        y_batch = y[batch_idx]\n",
    "        if method == 'gd':            \n",
    "            grad = gradient(X_batch, y_batch, w)\n",
    "            w -= learning_rate * grad\n",
    "            \n",
    "        elif method == 'NAG':\n",
    "            grad = gradient(X_batch, y_batch, w - gamma * v)\n",
    "            v = gamma * v + learning_rate * grad\n",
    "            w -= v\n",
    "            \n",
    "        elif method == 'RMSProp':\n",
    "            grad = gradient(X_batch, y_batch, w)\n",
    "            G = gamma * G + (1 - gamma) * np.square(grad)\n",
    "            w -= learning_rate * 100 * grad / np.sqrt(G + epsilon)\n",
    "            \n",
    "        elif method == 'AdaDelta':\n",
    "            grad = gradient(X_batch, y_batch, w)\n",
    "            G = gamma * G + (1 - gamma)* np.square(grad)\n",
    "            dw = -np.sqrt(delta + epsilon) / np.sqrt(G + epsilon) * grad\n",
    "            w += dw\n",
    "            delta = gamma * delta + (1 - gamma) * np.square(delta)\n",
    "            \n",
    "        elif method == 'Adam':\n",
    "            t = i + 1\n",
    "            grad = gradient(X_batch, y_batch, w)\n",
    "            m = beta * m + (1 - beta) * grad\n",
    "            G = gamma * G + (1 - gamma) * np.square(grad)\n",
    "            alpha = learning_rate * 100 * np.sqrt(1 - gamma ** t) / (1 - beta ** t)\n",
    "            w -= alpha * m / np.sqrt(G + epsilon)\n",
    "#             print(alpha)\n",
    "        \n",
    "            \n",
    "            \n",
    "        loss = loss_fn(X_batch, y_batch, w)\n",
    "        loss_history.append(loss)\n",
    "        \n",
    "    return w, loss_history"
   ]
  },
  {
   "cell_type": "code",
   "execution_count": 39,
   "metadata": {},
   "outputs": [
    {
     "name": "stdout",
     "output_type": "stream",
     "text": [
      "[-2.56183532 -0.52519769 -0.04555908  0.51089812  0.7469677   0.75105562\n",
      "  0.28471378 -0.07788307  0.73532588  0.87826666  0.24855814  0.39946341\n",
      "  0.97678407  0.99731631  0.14804165  0.31546612  0.3410545   0.30406383\n",
      "  0.32953858  0.68360895  0.47686056  0.69853102  0.28289085  1.23750792\n",
      "  0.73955801  0.70806108  0.72563049  0.58966622  0.89647141  0.99716798\n",
      "  0.83217831  0.71594752  1.19454069  0.71248944  0.94705424 -0.88203136\n",
      "  0.28289085  0.47686056  0.44761909  1.11282554  1.13957485  0.01943899\n",
      " -0.46536287  0.45427533  0.6032978   0.66472407  1.0222165   1.09762896\n",
      "  0.68246981 -0.00942417  0.89716169  1.36872012  1.10282409  0.4702263\n",
      "  0.43625452  0.57893808  0.30632194  0.64613399  0.90077755  0.97509996\n",
      "  0.99209604  1.54685428 -0.17433492  0.72181058  0.11835126  0.43816821\n",
      " -0.21268472  0.10987199  0.05241501  0.6949692   0.66614579 -0.08523731\n",
      " -1.02310505 -0.53873027 -1.68575432  0.123919   -1.5354263  -0.02640903\n",
      " -0.49744383  0.22915491  0.24250941  0.69727447  0.76666971  0.49470825\n",
      "  0.98722382  0.94771323  0.85086717  0.93585636  0.91388206  0.97882348\n",
      "  0.85851702  0.95390068  0.9474548   0.8713605   0.87597661  0.93282332\n",
      "  0.95649218  0.98841325  0.82785267  0.96236148  0.93342454  0.92203862\n",
      "  0.89349377  0.41557913  0.95690911  0.98559721  0.98515742  0.90916674\n",
      "  0.97286616  0.96409734  0.94879224  0.94516643  0.91033775  0.97858399\n",
      "  0.94607629  0.95559568  0.99049512  0.97240976  0.99236166  0.90045707\n",
      "  0.97143548  0.96771326  0.9765749   0.99841346]\n"
     ]
    }
   ],
   "source": [
    "le = LabelEncoder()\n",
    "w, loss_history = logistic_regression(X, le.fit_transform(y), 10000, 0.0001, method='gd')\n",
    "print(w)\n",
    "# print(loss_history)"
   ]
  },
  {
   "cell_type": "code",
   "execution_count": 40,
   "metadata": {},
   "outputs": [],
   "source": [
    "X0 = np.ones((X_test.shape[0], 1))\n",
    "X1 = hstack([X0, X_test])\n",
    "pred = np.round(sigmoid(X1.dot(w)))"
   ]
  },
  {
   "cell_type": "code",
   "execution_count": 41,
   "metadata": {},
   "outputs": [
    {
     "data": {
      "text/plain": [
       "0.84638535716479335"
      ]
     },
     "execution_count": 41,
     "metadata": {},
     "output_type": "execute_result"
    }
   ],
   "source": [
    "\n",
    "# pred = [1 if i == 1 else -1 for i in pred]\n",
    "accuracy_score(pred, le.transform(y_test))"
   ]
  },
  {
   "cell_type": "code",
   "execution_count": 50,
   "metadata": {},
   "outputs": [
    {
     "name": "stdout",
     "output_type": "stream",
     "text": [
      "0.849824949327\n",
      "[-0.61206205] [[-1.3812299  -0.41083569  0.19147326  0.49352529  0.49500499  0.26112624\n",
      "  -0.13684575  0.50602223  0.6944782   0.00993066 -0.07159932 -0.83474086\n",
      "  -0.12755718 -0.29047802 -0.0887569  -0.09352184 -0.08057406 -0.05873122\n",
      "  -0.32426662 -0.06361783  0.18817062 -0.24061352  0.57384289  0.00456175\n",
      "   0.01423259 -0.22180792 -0.42415565  0.52784434 -0.0083241  -0.359854\n",
      "   0.09457389  0.73196836 -0.20224754 -0.90236931 -1.29984557 -0.24061352\n",
      "  -0.06361783  0.01879434  0.97322052  1.27836531 -0.74750606 -0.9648665\n",
      "  -0.80935508 -0.31733975 -0.65048546  1.5991255   0.79575943  0.17029333\n",
      "  -0.63384905  0.4200784   0.89291027  0.65506285 -0.51461892 -0.23762375\n",
      "   0.14879632 -0.68801672  0.02746823 -1.09165296  0.79262818 -0.3088642\n",
      "   1.12823032 -0.816244   -0.3026011   0.09875712 -0.56924983 -0.15095457\n",
      "   0.05035012  0.18399847 -0.43008574 -0.31387284 -0.10245206 -0.71385645\n",
      "   0.1017944  -1.1317544   0.51969235 -0.84327508  0.23121303 -1.06461522\n",
      "  -0.21084039 -0.06912396  0.29881303  0.43370449  0.41219114  0.85892202\n",
      "   0.53197972 -0.20209666  0.57268158  0.56606337 -0.57736423 -0.24927909\n",
      "   0.43681322 -0.5383605  -0.6122178  -0.46401626  0.49315223  0.19048513\n",
      "  -0.17127715  0.53948985  0.86940218  0.18038336  0.14520346 -0.78133218\n",
      "  -0.28035542  0.10791761  0.6242007   0.49793709 -0.61043133 -0.19462456\n",
      "  -0.02354699  0.19937269  0.0035187  -1.32247818  0.04127042 -0.01975244\n",
      "  -0.3381618   0.05458668 -0.17384463  0.59895488 -0.37647039 -0.17861608\n",
      "  -0.38743157  0.0823111  -0.00822839]]\n"
     ]
    }
   ],
   "source": [
    "from sklearn.linear_model import LogisticRegression\n",
    "\n",
    "clf = LogisticRegression()\n",
    "clf.fit(X, y)\n",
    "print(clf.score(X_test, y_test))\n",
    "print (clf.intercept_, clf.coef_)"
   ]
  },
  {
   "cell_type": "code",
   "execution_count": 60,
   "metadata": {},
   "outputs": [
    {
     "data": {
      "image/png": "[encoded data removed]",
      "text/plain": [
       "<matplotlib.figure.Figure at 0x7fd6074e30f0>"
      ]
     },
     "metadata": {},
     "output_type": "display_data"
    }
   ],
   "source": [
    "plt.plot(loss_history)\n",
    "plt.show()\n",
    "# print(loss_history)"
   ]
  },
  {
   "cell_type": "code",
   "execution_count": 61,
   "metadata": {},
   "outputs": [
    {
     "name": "stdout",
     "output_type": "stream",
     "text": [
      "accuracy:  0.846508199742 ------ NAG\n",
      "accuracy:  0.845893986856 ------ RMSProp\n",
      "accuracy:  0.851176217677 ------ AdaDelta\n",
      "accuracy:  0.849947791905 ------ Adam\n"
     ]
    },
    {
     "data": {
      "image/png": "[encoded data removed]",
      "text/plain": [
       "<matplotlib.figure.Figure at 0x7fd5f6ebe240>"
      ]
     },
     "metadata": {},
     "output_type": "display_data"
    }
   ],
   "source": [
    "f = plt.figure('Loss', figsize=(10, 8))\n",
    "ax = f.add_subplot(111)\n",
    "ax.set_title('training loss')\n",
    "ax.set_xlabel('training iterations')\n",
    "ax.set_ylabel('loss')\n",
    "algorithms = ['NAG', 'RMSProp', 'AdaDelta', 'Adam']\n",
    "for algorithm in algorithms:\n",
    "    le = LabelEncoder()\n",
    "    w, loss_history = logistic_regression(X, le.fit_transform(y), 1000, 0.0001, method=algorithm)\n",
    "    X0 = np.ones((X_test.shape[0], 1))\n",
    "    X1 = hstack([X0, X_test])\n",
    "    pred = np.round(sigmoid(X1.dot(w)))\n",
    "    print('accuracy: ', accuracy_score(pred, le.transform(y_test)), '------', algorithm)\n",
    "    ax.plot(loss_history, label=algorithm)\n",
    "\n",
    "ax.legend()\n",
    "plt.show()"
   ]
  },
  {
   "cell_type": "code",
   "execution_count": null,
   "metadata": {},
   "outputs": [],
   "source": []
  }
 ],
 "metadata": {
  "kernelspec": {
   "display_name": "Python 3",
   "language": "python",
   "name": "python3"
  },
  "language_info": {
   "codemirror_mode": {
    "name": "ipython",
    "version": 3
   },
   "file_extension": ".py",
   "mimetype": "text/x-python",
   "name": "python",
   "nbconvert_exporter": "python",
   "pygments_lexer": "ipython3",
   "version": "3.6.3"
  }
 },
 "nbformat": 4,
 "nbformat_minor": 2
}
